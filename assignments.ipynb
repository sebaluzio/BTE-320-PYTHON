{
  "nbformat": 4,
  "nbformat_minor": 0,
  "metadata": {
    "colab": {
      "provenance": [],
      "authorship_tag": "ABX9TyOPB+7pvt7kP0ofl1bYhGGf",
      "include_colab_link": true
    },
    "kernelspec": {
      "name": "python3",
      "display_name": "Python 3"
    },
    "language_info": {
      "name": "python"
    }
  },
  "cells": [
    {
      "cell_type": "markdown",
      "metadata": {
        "id": "view-in-github",
        "colab_type": "text"
      },
      "source": [
        "<a href=\"https://colab.research.google.com/github/sebaluzio/BTE-320-PYTHON/blob/main/assignments.ipynb\" target=\"_parent\"><img src=\"https://colab.research.google.com/assets/colab-badge.svg\" alt=\"Open In Colab\"/></a>"
      ]
    },
    {
      "cell_type": "code",
      "source": [],
      "metadata": {
        "id": "tK7KEJXasASi"
      },
      "execution_count": null,
      "outputs": []
    },
    {
      "cell_type": "code",
      "source": [
        "pi=3.14\n",
        "radius= float(input(\"please provide the radius: \"))\n",
        "height = float(input(\"please provide the height: \"))\n",
        "\n",
        "area = 2*pi*radius**2+2*pi*radius*height\n",
        "\n",
        "print(area)\n",
        "print(f\"area= {area]} sq. ft.7\")\n",
        "type(area)\n"
      ],
      "metadata": {
        "colab": {
          "base_uri": "https://localhost:8080/"
        },
        "id": "w73Cfw7QsIHz",
        "outputId": "6ba50f7a-bc7c-4d4a-95e5-ad90c1bf44d4"
      },
      "execution_count": null,
      "outputs": [
        {
          "output_type": "stream",
          "name": "stdout",
          "text": [
            "please provide the radius: 7\n",
            "please provide the height: 78\n",
            "3736.6000000000004\n",
            "area= 3736.6000000000004 sq. ft.7\n"
          ]
        },
        {
          "output_type": "execute_result",
          "data": {
            "text/plain": [
              "float"
            ]
          },
          "metadata": {},
          "execution_count": 11
        }
      ]
    },
    {
      "cell_type": "code",
      "source": [],
      "metadata": {
        "id": "G4Yd2lMLDbd2"
      },
      "execution_count": null,
      "outputs": []
    },
    {
      "cell_type": "markdown",
      "source": [
        "2 class assignment:"
      ],
      "metadata": {
        "id": "BEtNpHq7sRrO"
      }
    },
    {
      "cell_type": "code",
      "source": [
        "number_1 == 6\n",
        "number_2== 9\n",
        "symbol= input(\"please put a symbol\")\n",
        "if symbol== \"*\":\n",
        "  print(number1*number2)\n",
        "elif symbol== \"+\":\n",
        "  print(number1+number2)\n",
        "elif symbol== \"-\":\n",
        "  print(number1-number2)\n",
        "elif symbol== \"/\":\n",
        "  print(number1/number2)"
      ],
      "metadata": {
        "colab": {
          "base_uri": "https://localhost:8080/",
          "height": 216
        },
        "id": "ndbYvS0EsYhJ",
        "outputId": "b1feb4ed-f5c1-4210-e421-3d507b1d0960"
      },
      "execution_count": 5,
      "outputs": [
        {
          "output_type": "error",
          "ename": "NameError",
          "evalue": "name 'number_1' is not defined",
          "traceback": [
            "\u001b[0;31m---------------------------------------------------------------------------\u001b[0m",
            "\u001b[0;31mNameError\u001b[0m                                 Traceback (most recent call last)",
            "\u001b[0;32m<ipython-input-5-c2b885420efc>\u001b[0m in \u001b[0;36m<cell line: 0>\u001b[0;34m()\u001b[0m\n\u001b[0;32m----> 1\u001b[0;31m \u001b[0mnumber_1\u001b[0m \u001b[0;34m==\u001b[0m \u001b[0;36m6\u001b[0m\u001b[0;34m\u001b[0m\u001b[0;34m\u001b[0m\u001b[0m\n\u001b[0m\u001b[1;32m      2\u001b[0m \u001b[0mnumber_2\u001b[0m\u001b[0;34m==\u001b[0m \u001b[0;36m9\u001b[0m\u001b[0;34m\u001b[0m\u001b[0;34m\u001b[0m\u001b[0m\n\u001b[1;32m      3\u001b[0m \u001b[0msymbol\u001b[0m\u001b[0;34m=\u001b[0m \u001b[0minput\u001b[0m\u001b[0;34m(\u001b[0m\u001b[0;34m\"please put a symbol\"\u001b[0m\u001b[0;34m)\u001b[0m\u001b[0;34m\u001b[0m\u001b[0;34m\u001b[0m\u001b[0m\n\u001b[1;32m      4\u001b[0m \u001b[0;32mif\u001b[0m \u001b[0msymbol\u001b[0m\u001b[0;34m==\u001b[0m \u001b[0;34m\"*\"\u001b[0m\u001b[0;34m:\u001b[0m\u001b[0;34m\u001b[0m\u001b[0;34m\u001b[0m\u001b[0m\n\u001b[1;32m      5\u001b[0m   \u001b[0mprint\u001b[0m\u001b[0;34m(\u001b[0m\u001b[0mnumber1\u001b[0m\u001b[0;34m*\u001b[0m\u001b[0mnumber2\u001b[0m\u001b[0;34m)\u001b[0m\u001b[0;34m\u001b[0m\u001b[0;34m\u001b[0m\u001b[0m\n",
            "\u001b[0;31mNameError\u001b[0m: name 'number_1' is not defined"
          ]
        }
      ]
    },
    {
      "cell_type": "code",
      "source": [
        "number_1= float(input(\"please provide first number: \"))\n",
        "number_2= float(input(\"please provide second number: \"))\n",
        "symbol= input(\"please put an operator\")\n",
        "\n",
        "if symbol == \"+\":\n",
        "  print(f\"{number_1}+{number_2} = {number_1 + number_2}\")\n",
        "elif symbol == \"-\":\n",
        "  print(f\"{number_1}-{number_2}) = {number_1 - number_2}\")\n",
        "elif symbol == \"/\":\n",
        "    print(f\"{number_1}/{number_2} = {number_1 / number_2}\")\n",
        "elif symbol == \"*\":\n",
        "    print(f\"{number_1}*{number_2} = {number_1 * number_2}\")\n",
        "elif symbol == \"**\":\n",
        "    print(f\"{number_1}**{number_2} = {number_1 ** number_2}\")\n",
        "elif symbol == \"%\":\n",
        "    print(f\"{number_1}%{number_2} = {number_1 % number_2}\")\n",
        "elif symbol == \"//\":\n",
        "    print(f\"{number_1}//{number_2} = {number_1 // number_2}\")\n",
        "else:\n",
        "    print(\"invalid operator\")\n"
      ],
      "metadata": {
        "colab": {
          "base_uri": "https://localhost:8080/"
        },
        "id": "xa1A_ptSvzcf",
        "outputId": "0283f737-c244-4c92-9110-89cb93bba896"
      },
      "execution_count": 9,
      "outputs": [
        {
          "output_type": "stream",
          "name": "stdout",
          "text": [
            "please provide first number: 6\n",
            "please provide second number: 9\n",
            "please put an operator?\n",
            "invalid operator\n"
          ]
        }
      ]
    },
    {
      "cell_type": "markdown",
      "source": [],
      "metadata": {
        "id": "sKh9n8CEvzLF"
      }
    }
  ]
}