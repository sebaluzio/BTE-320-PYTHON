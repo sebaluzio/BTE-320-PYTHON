{
  "nbformat": 4,
  "nbformat_minor": 0,
  "metadata": {
    "colab": {
      "provenance": [],
      "authorship_tag": "ABX9TyM0EY58DUmTNZpIr1OgOJzD",
      "include_colab_link": true
    },
    "kernelspec": {
      "name": "python3",
      "display_name": "Python 3"
    },
    "language_info": {
      "name": "python"
    }
  },
  "cells": [
    {
      "cell_type": "markdown",
      "metadata": {
        "id": "view-in-github",
        "colab_type": "text"
      },
      "source": [
        "<a href=\"https://colab.research.google.com/github/sebaluzio/BTE-320-PYTHON/blob/main/assignments.ipynb\" target=\"_parent\"><img src=\"https://colab.research.google.com/assets/colab-badge.svg\" alt=\"Open In Colab\"/></a>"
      ]
    },
    {
      "cell_type": "markdown",
      "source": [
        "In-class assignment #1"
      ],
      "metadata": {
        "id": "CqmY2swIBP0v"
      }
    },
    {
      "cell_type": "code",
      "source": [
        "pi=3.14\n",
        "radius= float(input(\"please provide the radius: \"))\n",
        "height = float(input(\"please provide the height: \"))\n",
        "\n",
        "area = 2*pi*radius**2+2*pi*radius*height\n",
        "\n",
        "print(area)\n",
        "print(f\"area= {area]} sq. ft.7\")\n",
        "type(area)\n"
      ],
      "metadata": {
        "colab": {
          "base_uri": "https://localhost:8080/"
        },
        "id": "w73Cfw7QsIHz",
        "outputId": "6ba50f7a-bc7c-4d4a-95e5-ad90c1bf44d4"
      },
      "execution_count": null,
      "outputs": [
        {
          "output_type": "stream",
          "name": "stdout",
          "text": [
            "please provide the radius: 7\n",
            "please provide the height: 78\n",
            "3736.6000000000004\n",
            "area= 3736.6000000000004 sq. ft.7\n"
          ]
        },
        {
          "output_type": "execute_result",
          "data": {
            "text/plain": [
              "float"
            ]
          },
          "metadata": {},
          "execution_count": 11
        }
      ]
    },
    {
      "cell_type": "code",
      "source": [],
      "metadata": {
        "id": "G4Yd2lMLDbd2"
      },
      "execution_count": null,
      "outputs": []
    },
    {
      "cell_type": "markdown",
      "source": [
        "In-class assignment #2"
      ],
      "metadata": {
        "id": "BEtNpHq7sRrO"
      }
    },
    {
      "cell_type": "code",
      "source": [
        "number_1= float(input(\"please provide first number: \"))\n",
        "number_2= float(input(\"please provide second number: \"))\n",
        "symbol= input(\"please put an operator\")\n",
        "\n",
        "if symbol == \"+\":\n",
        "  print(f\"{number_1}+{number_2} = {number_1 + number_2}\")\n",
        "elif symbol == \"-\":\n",
        "  print(f\"{number_1}-{number_2}) = {number_1 - number_2}\")\n",
        "elif symbol == \"/\":\n",
        "    print(f\"{number_1}/{number_2} = {number_1 / number_2}\")\n",
        "elif symbol == \"*\":\n",
        "    print(f\"{number_1}*{number_2} = {number_1 * number_2}\")\n",
        "elif symbol == \"**\":\n",
        "    print(f\"{number_1}**{number_2} = {number_1 ** number_2}\")\n",
        "elif symbol == \"%\":\n",
        "    print(f\"{number_1}%{number_2} = {number_1 % number_2}\")\n",
        "elif symbol == \"//\":\n",
        "    print(f\"{number_1}//{number_2} = {number_1 // number_2}\")\n",
        "else:\n",
        "    print(\"invalid operator\")\n"
      ],
      "metadata": {
        "colab": {
          "base_uri": "https://localhost:8080/"
        },
        "id": "xa1A_ptSvzcf",
        "outputId": "0283f737-c244-4c92-9110-89cb93bba896"
      },
      "execution_count": null,
      "outputs": [
        {
          "output_type": "stream",
          "name": "stdout",
          "text": [
            "please provide first number: 6\n",
            "please provide second number: 9\n",
            "please put an operator?\n",
            "invalid operator\n"
          ]
        }
      ]
    },
    {
      "cell_type": "markdown",
      "source": [
        "In-class assignment #3"
      ],
      "metadata": {
        "id": "sKh9n8CEvzLF"
      }
    },
    {
      "cell_type": "code",
      "source": [
        "for number_hours in range (1,9):\n",
        "  fee= 5+2.5*(number_hours)\n",
        "  if fee<10.0:\n",
        "    fee=10.0\n",
        "  elif fee>20.0:\n",
        "    fee=20.0\n",
        "  print(number_hours, fee)"
      ],
      "metadata": {
        "colab": {
          "base_uri": "https://localhost:8080/"
        },
        "id": "6AykJ-alblfH",
        "outputId": "3d13ef05-0eb8-491e-9d03-e42a27a92ced"
      },
      "execution_count": null,
      "outputs": [
        {
          "output_type": "stream",
          "name": "stdout",
          "text": [
            "1 10.0\n",
            "2 10.0\n",
            "3 12.5\n",
            "4 15.0\n",
            "5 17.5\n",
            "6 20.0\n",
            "7 20.0\n",
            "8 20.0\n"
          ]
        }
      ]
    },
    {
      "cell_type": "markdown",
      "source": [
        "In-class assignment #4"
      ],
      "metadata": {
        "id": "Hot3aUhjdQoI"
      }
    },
    {
      "cell_type": "code",
      "source": [
        "print ('Ad$\\t', 'profit')\n",
        "for ad_money in range (0,201,25):\n",
        "  revenue= (20+2*round(ad_money**0.5))*10\n",
        "  cost=200+ad_money\n",
        "  profit= revenue-cost\n",
        "  print(ad_money, '\\t', profit)\n"
      ],
      "metadata": {
        "colab": {
          "base_uri": "https://localhost:8080/"
        },
        "id": "V9bC_cvkg4Z-",
        "outputId": "3116fd14-8bf1-4859-bdcf-52b7bd928008"
      },
      "execution_count": null,
      "outputs": [
        {
          "output_type": "stream",
          "name": "stdout",
          "text": [
            "Ad$\t profit\n",
            "0 \t 0\n",
            "25 \t 75\n",
            "50 \t 90\n",
            "75 \t 105\n",
            "100 \t 100\n",
            "125 \t 95\n",
            "150 \t 90\n",
            "175 \t 85\n",
            "200 \t 80\n"
          ]
        }
      ]
    },
    {
      "cell_type": "markdown",
      "source": [
        "In-class assignment #5"
      ],
      "metadata": {
        "id": "0ByiVX4aH269"
      }
    },
    {
      "cell_type": "code",
      "source": [
        "import random\n",
        "\n",
        "play= input(\"do you want to play a game (yes/no)?\")\n",
        "\n",
        "while play == \"yes\":\n",
        "  p1 = input(\"player 1- choose between rock/paper/scissors:\")\n",
        "  p2 = random.choice([\"rock\", \"paper\", \"scissors\"])\n",
        "\n",
        "  print(f'player choose {p1}; computer choose {p2}')\n",
        "\n",
        "  if p1==p2:\n",
        "    print (\"draw\")\n",
        "  elif (p1== \"rock\" and p2== \"scissors\") or (p1== \"paper\" and p2== \"rock\") or (p1== \"scissors\" and p2== \"paper\"):\n",
        "    print (\"player 1 wins\")\n",
        "  else:\n",
        "    print (\"player 2 wins\")\n",
        "\n",
        "  play = input(\"do you want to play a game  of rock paper scissors (yes/no)?\")\n",
        "print (\"good day ...\")"
      ],
      "metadata": {
        "colab": {
          "base_uri": "https://localhost:8080/"
        },
        "id": "ZgJlaMDaMV0N",
        "outputId": "2d15dbfe-cb34-4008-a2c7-7196d461633b"
      },
      "execution_count": null,
      "outputs": [
        {
          "output_type": "stream",
          "name": "stdout",
          "text": [
            "do you want to play a game (yes/no)?yes\n",
            "player 1- choose between rock/paper/scissors:rock\n",
            "player choose rock; computer choose paper\n",
            "player 2 wins\n",
            "do you want to play a game  of rock paper scissors (yes/no)?no\n",
            "good day ...\n"
          ]
        }
      ]
    },
    {
      "cell_type": "markdown",
      "source": [
        "In-class assignment #5"
      ],
      "metadata": {
        "id": "UY8lRwoSowEy"
      }
    },
    {
      "cell_type": "code",
      "source": [
        "import random\n",
        "\n",
        "play = input('do you want to play a game of rock paper scissors (yes/no)? ')\n",
        "\n",
        "while play == 'yes':\n",
        "  player1 = input('player , please select rock, paper, or scissors: ').capitalize()\n",
        "  player2 = random.choice(['rock', 'paper', 'scissors']).capitalize()\n",
        "\n",
        "\n",
        "  print(f'player chooses {player1}; computer chooses {player2}')\n",
        "\n",
        "  if player1 == player2:\n",
        "    print('it is a tie')\n",
        "  elif player1 == 'rock' and player2 == 'scissors':\n",
        "    print('player wins')\n",
        "  elif player1 == 'paper' and player2 == 'rock':\n",
        "    print('player wins')\n",
        "  elif player1 == 'scissors' and player2 == 'paper':\n",
        "    print('player wins')\n",
        "  else:\n",
        "    print('computer wins')\n",
        "\n",
        "  play = input('do you want to play another game of rock paper scissors (yes/no)? ')\n",
        "print('Have a good day!')"
      ],
      "metadata": {
        "colab": {
          "base_uri": "https://localhost:8080/"
        },
        "id": "oqKKwn4qozwJ",
        "outputId": "00d7a228-ad02-49ff-c65d-dd54b9461c62"
      },
      "execution_count": null,
      "outputs": [
        {
          "output_type": "stream",
          "name": "stdout",
          "text": [
            "do you want to play a game of rock paper scissors (yes/no)? yes\n",
            "player , please select rock, paper, or scissors: scissors\n",
            "player chooses Scissors; computer chooses Rock\n",
            "computer wins\n",
            "do you want to play another game of rock paper scissors (yes/no)? yes\n",
            "player , please select rock, paper, or scissors: paer\n",
            "player chooses Paer; computer chooses Rock\n",
            "computer wins\n",
            "do you want to play another game of rock paper scissors (yes/no)? yes\n",
            "player , please select rock, paper, or scissors: paper\n",
            "player chooses Paper; computer chooses Scissors\n",
            "computer wins\n",
            "do you want to play another game of rock paper scissors (yes/no)? yes\n",
            "player , please select rock, paper, or scissors: rock\n",
            "player chooses Rock; computer chooses Rock\n",
            "it is a tie\n",
            "do you want to play another game of rock paper scissors (yes/no)? yes\n",
            "player , please select rock, paper, or scissors: rock\n",
            "player chooses Rock; computer chooses Scissors\n",
            "computer wins\n",
            "do you want to play another game of rock paper scissors (yes/no)? no\n",
            "Have a good day!\n"
          ]
        }
      ]
    },
    {
      "cell_type": "markdown",
      "source": [
        "In-class assignment #6"
      ],
      "metadata": {
        "id": "dM2Y0CVIrw6i"
      }
    },
    {
      "cell_type": "code",
      "source": [
        "LIST=[]\n",
        "\n",
        "NUMBERS= float(input('give a number:'))\n",
        "\n",
        "while NUMBERS!= 0.0:\n",
        "  LIST.append(NUMBERS)\n",
        "  NUMBERS= float(input('give a number:'))\n",
        "LIST.sort(reverse=True)\n",
        "print(LIST)"
      ],
      "metadata": {
        "colab": {
          "base_uri": "https://localhost:8080/"
        },
        "id": "IfVHGzRfR9cv",
        "outputId": "e97c971b-db19-44e4-a3c1-9a53bb7be4f8"
      },
      "execution_count": null,
      "outputs": [
        {
          "output_type": "stream",
          "name": "stdout",
          "text": [
            "give a number:5\n",
            "give a number:5\n",
            "give a number:0\n",
            "[5.0, 5.0]\n"
          ]
        }
      ]
    },
    {
      "cell_type": "markdown",
      "source": [
        "In-class assignment #7"
      ],
      "metadata": {
        "id": "HKwl_ynsrl8J"
      }
    },
    {
      "cell_type": "code",
      "source": [
        "months= {}\n",
        "\n",
        "names= ['jan','feb','mar','april','may','jun','jul','aug','sep','oct','nov','dec']\n",
        "numbers=[1,2,3,4,5,6,7,8,9,10,11,12]\n",
        "\n",
        "for idx in range(len(numbers)):\n",
        "  months[numbers[idx]]= names[idx]\n",
        "print(months)"
      ],
      "metadata": {
        "colab": {
          "base_uri": "https://localhost:8080/"
        },
        "id": "wdK0BivcyB5B",
        "outputId": "4746d7cf-0ab2-40e6-b3e0-09eaebf2a8ce"
      },
      "execution_count": null,
      "outputs": [
        {
          "output_type": "stream",
          "name": "stdout",
          "text": [
            "{1: 'jan', 2: 'feb', 3: 'mar', 4: 'april', 5: 'may', 6: 'jun', 7: 'jul', 8: 'aug', 9: 'sep', 10: 'oct', 11: 'nov', 12: 'dec'}\n"
          ]
        }
      ]
    },
    {
      "cell_type": "code",
      "source": [
        "months= {}\n",
        "\n",
        "names= ['jan','feb','mar','april','may','jun','jul','aug','sep','oct','nov','dec']\n",
        "numbers=[1,2,3,4,5,6,7,8,9,10,11,12]\n",
        "\n",
        "cntr = 0\n",
        "for num in numbers:\n",
        "  months[num] = names[cntr]\n",
        "  cntr +=1\n",
        "months"
      ],
      "metadata": {
        "colab": {
          "base_uri": "https://localhost:8080/"
        },
        "id": "jOtjgshh2Z6N",
        "outputId": "6b674401-ab75-49fe-8497-539b514c972a"
      },
      "execution_count": null,
      "outputs": [
        {
          "output_type": "execute_result",
          "data": {
            "text/plain": [
              "{1: 'jan',\n",
              " 2: 'feb',\n",
              " 3: 'mar',\n",
              " 4: 'april',\n",
              " 5: 'may',\n",
              " 6: 'jun',\n",
              " 7: 'jul',\n",
              " 8: 'aug',\n",
              " 9: 'sep',\n",
              " 10: 'oct',\n",
              " 11: 'nov',\n",
              " 12: 'dec'}"
            ]
          },
          "metadata": {},
          "execution_count": 3
        }
      ]
    },
    {
      "cell_type": "code",
      "source": [
        "months= {}\n",
        "\n",
        "names= ['jan','feb','mar','april','may','jun','jul','aug','sep','oct','nov','dec']\n",
        "numbers=[1,2,3,4,5,6,7,8,9,10,11,12]\n",
        "\n",
        "for num in numbers:\n",
        "  months[num]=names[num-1]\n",
        "months"
      ],
      "metadata": {
        "colab": {
          "base_uri": "https://localhost:8080/"
        },
        "id": "PqD1t02k24KL",
        "outputId": "aaf9adbb-0d38-42b5-8ed9-81c0587ac14a"
      },
      "execution_count": null,
      "outputs": [
        {
          "output_type": "execute_result",
          "data": {
            "text/plain": [
              "{1: 'jan',\n",
              " 2: 'feb',\n",
              " 3: 'mar',\n",
              " 4: 'april',\n",
              " 5: 'may',\n",
              " 6: 'jun',\n",
              " 7: 'jul',\n",
              " 8: 'aug',\n",
              " 9: 'sep',\n",
              " 10: 'oct',\n",
              " 11: 'nov',\n",
              " 12: 'dec'}"
            ]
          },
          "metadata": {},
          "execution_count": 4
        }
      ]
    },
    {
      "cell_type": "markdown",
      "source": [
        "In-class assignment #8"
      ],
      "metadata": {
        "id": "1Hl169X-rZBA"
      }
    },
    {
      "cell_type": "code",
      "source": [
        "counts={}\n",
        "\n",
        "while len(counts)< 5:\n",
        "  key = input('given a string: ')\n",
        "\n",
        "  if key not in counts:\n",
        "    counts[key]=1\n",
        "  else:\n",
        "    counts[key]+=1\n",
        "print(counts)"
      ],
      "metadata": {
        "colab": {
          "base_uri": "https://localhost:8080/"
        },
        "id": "3kN5cUuL6318",
        "outputId": "a40f9f4a-f75c-42d8-9bd2-81687d6093fa"
      },
      "execution_count": null,
      "outputs": [
        {
          "output_type": "stream",
          "name": "stdout",
          "text": [
            "given a string: 1\n",
            "given a string: 32\n",
            "given a string: 4\n",
            "given a string: 5\n",
            "given a string: 3\n",
            "{'1': 1, '32': 1, '4': 1, '5': 1, '3': 1}\n"
          ]
        }
      ]
    },
    {
      "cell_type": "markdown",
      "source": [
        "In-class assignment #9"
      ],
      "metadata": {
        "id": "EzmBfy9LpabF"
      }
    },
    {
      "cell_type": "code",
      "source": [
        "def calcFee(hours):\n",
        "  fee= 5+2.5*(hours)\n",
        "  if fee<10.0:\n",
        "    fee=10.0\n",
        "  elif fee>20.0:\n",
        "    fee=20.0\n",
        "  print(f'fee:{fee}$')\n",
        "  return\n",
        "\n",
        "def main():\n",
        "  numHours= int(input('enter number of hours:'))\n",
        "  calcFee(numHours)\n",
        "\n",
        "main()"
      ],
      "metadata": {
        "colab": {
          "base_uri": "https://localhost:8080/"
        },
        "id": "BZCA3q-8paPU",
        "outputId": "9c27fa45-8755-447e-d665-c6ce5a5147ef"
      },
      "execution_count": null,
      "outputs": [
        {
          "output_type": "stream",
          "name": "stdout",
          "text": [
            "enter number of hours:69\n",
            "fee:20.0$\n"
          ]
        }
      ]
    },
    {
      "cell_type": "markdown",
      "source": [
        "In-class assignment #10"
      ],
      "metadata": {
        "id": "_AE6UANmqxkv"
      }
    },
    {
      "cell_type": "code",
      "source": [
        "def reverse(s):\n",
        "  if len(s) <= 1:\n",
        "    return s\n",
        "  else:\n",
        "    #return s[-1] + reverse(s[:-1])\n",
        "    #return s[-1] + reverse(s[1:-1]) + s[0]\n",
        "    return reverse(s[1:]) + s[0]\n",
        "\n",
        "reverse('Hello')"
      ],
      "metadata": {
        "id": "s0DZHoA5q_h2",
        "colab": {
          "base_uri": "https://localhost:8080/",
          "height": 35
        },
        "outputId": "5b973557-5739-46e1-dbb4-ee0212939a36"
      },
      "execution_count": null,
      "outputs": [
        {
          "output_type": "execute_result",
          "data": {
            "text/plain": [
              "'olleH'"
            ],
            "application/vnd.google.colaboratory.intrinsic+json": {
              "type": "string"
            }
          },
          "metadata": {},
          "execution_count": 2
        }
      ]
    },
    {
      "cell_type": "markdown",
      "source": [
        "In-class assignment #11"
      ],
      "metadata": {
        "id": "JkvqLVRaKkON"
      }
    },
    {
      "cell_type": "code",
      "source": [
        "def calcFee(hours):\n",
        "  fee = 5 + 2.5 * hours\n",
        "  if fee < 10:\n",
        "    fee = 10.0\n",
        "  elif fee > 20:\n",
        "    fee = 20.0\n",
        "  print(f'Fee: {fee}$')\n",
        "  return\n",
        "\n",
        "def main():\n",
        "  try:\n",
        "    numHours = int(input('Enter number of hours:'))\n",
        "    calcFee(numHours)\n",
        "  except ValueError:\n",
        "    print('Cannot cast to int().')\n",
        "  except:\n",
        "    print('Uknown error...')\n",
        "\n",
        "if __name__ == '__main__':\n",
        "  main()"
      ],
      "metadata": {
        "colab": {
          "base_uri": "https://localhost:8080/"
        },
        "id": "vCOZN5VtKn3E",
        "outputId": "f7113fe9-0f64-40d8-ed89-39d072001138"
      },
      "execution_count": 2,
      "outputs": [
        {
          "output_type": "stream",
          "name": "stdout",
          "text": [
            "Enter number of hours:4\n",
            "Fee: 15.0$\n"
          ]
        }
      ]
    },
    {
      "cell_type": "markdown",
      "source": [
        "In-class assignment #12"
      ],
      "metadata": {
        "id": "eDPj262lLKFi"
      }
    },
    {
      "cell_type": "code",
      "source": [
        "def getValues(n):\n",
        "  L = []\n",
        "  for i in range(n):\n",
        "    weight = float(input('Enter weight:'))\n",
        "    L.append(weight)\n",
        "  return L\n",
        "\n",
        "def calcAverage(alist):\n",
        "  try:\n",
        "    print(f'The average weight is: {sum(alist[2:]) / len(alist[2:])}')\n",
        "  except ZeroDivisionError:\n",
        "    print(f'List {alist} is empty!')\n",
        "\n",
        "if __name__ == '__main__':\n",
        "  try:\n",
        "    n = int(input('Enter size of the list:'))\n",
        "    alist = getValues(n)\n",
        "    calcAverage(alist)\n",
        "  except ValueError:\n",
        "    print('Input cannot be casted as an int()')"
      ],
      "metadata": {
        "colab": {
          "base_uri": "https://localhost:8080/"
        },
        "id": "xKLC76QCLMnn",
        "outputId": "db8a252f-5378-4a68-84c3-edd391125ab0"
      },
      "execution_count": 5,
      "outputs": [
        {
          "output_type": "stream",
          "name": "stdout",
          "text": [
            "Enter size of the list:3\n",
            "Enter weight:176\n",
            "Enter weight:164\n",
            "Enter weight:180\n",
            "The average weight is: 180.0\n"
          ]
        }
      ]
    },
    {
      "cell_type": "markdown",
      "source": [
        "In-class assignment #13"
      ],
      "metadata": {
        "id": "U90PK5dwMVFw"
      }
    },
    {
      "cell_type": "code",
      "source": [
        "class Greeting:\n",
        "  def __init__(self, first, last):\n",
        "    self.first = first\n",
        "    self.last = last\n",
        "\n",
        "  def display(self, formal=False):\n",
        "    if formal:\n",
        "      print(f'Hi {self.first} {self.last}')\n",
        "    else:\n",
        "      print(f'Hi {self.first}')\n",
        "\n",
        "  def __str__(self):\n",
        "    return f'{self.first}, {self.last}'\n",
        "\n",
        "greeting = Greeting('Donald', 'Becker')\n",
        "greeting.display(formal=True)\n",
        "print(greeting)"
      ],
      "metadata": {
        "colab": {
          "base_uri": "https://localhost:8080/"
        },
        "id": "hy51qPHnMbXA",
        "outputId": "3b444da0-fa3f-4dc8-9c2d-c64479250d10"
      },
      "execution_count": 6,
      "outputs": [
        {
          "output_type": "stream",
          "name": "stdout",
          "text": [
            "Hi Donald Becker\n",
            "Donald, Becker\n"
          ]
        }
      ]
    },
    {
      "cell_type": "markdown",
      "source": [
        "In-class assignment #14"
      ],
      "metadata": {
        "id": "UymJLaoHMeyu"
      }
    },
    {
      "cell_type": "code",
      "source": [
        "class Student:\n",
        "  def __init__(self, name, number):\n",
        "    self.name = name\n",
        "    self.number = number\n",
        "    self.courses = []\n",
        "\n",
        "  def enroll(self, course):\n",
        "    if course in self.courses:\n",
        "      print(f'You have already enrolled in {course}')\n",
        "    else:\n",
        "      self.courses.append(course)\n",
        "\n",
        "  def get_courses(self):\n",
        "    return self.courses\n",
        "\n",
        "student1 = Student(\"James Bond\", \"007\")\n",
        "student2 = Student(\"Clark Kent\", \"333\")\n",
        "\n",
        "print(student1.name)\n",
        "print(student2.name)"
      ],
      "metadata": {
        "colab": {
          "base_uri": "https://localhost:8080/"
        },
        "id": "a8rgYL_2Mj2p",
        "outputId": "051aa54c-3d6b-4eb7-833e-5b6d4b7cb73f"
      },
      "execution_count": 7,
      "outputs": [
        {
          "output_type": "stream",
          "name": "stdout",
          "text": [
            "James Bond\n",
            "Clark Kent\n"
          ]
        }
      ]
    },
    {
      "cell_type": "code",
      "source": [
        "student1.enroll(\"BTE320\")"
      ],
      "metadata": {
        "colab": {
          "base_uri": "https://localhost:8080/"
        },
        "id": "tAjIuckvM4m1",
        "outputId": "8a5e6bf6-d5b9-430b-d72d-4debfa62b107"
      },
      "execution_count": 10,
      "outputs": [
        {
          "output_type": "stream",
          "name": "stdout",
          "text": [
            "You have already enrolled in BTE320\n"
          ]
        }
      ]
    },
    {
      "cell_type": "code",
      "source": [
        "#testing for courses enrolled with method get_courses\n",
        "student1.get_courses()"
      ],
      "metadata": {
        "colab": {
          "base_uri": "https://localhost:8080/"
        },
        "id": "HtMtXG8aM9ta",
        "outputId": "478f185c-769e-4df5-a405-bb4e0c234268"
      },
      "execution_count": 9,
      "outputs": [
        {
          "output_type": "execute_result",
          "data": {
            "text/plain": [
              "['BTE320']"
            ]
          },
          "metadata": {},
          "execution_count": 9
        }
      ]
    },
    {
      "cell_type": "markdown",
      "source": [
        "In-class assignment #15"
      ],
      "metadata": {
        "id": "tK4UoTlyMol4"
      }
    },
    {
      "cell_type": "code",
      "source": [
        "import math\n",
        "\n",
        "class Point:\n",
        "  def __init__(self, x, y):\n",
        "    self.x = x\n",
        "    self.y = y\n",
        "\n",
        "  def distance(self,other):\n",
        "    return math.sqrt((self.x - other.x) ** 2 + (self.y - other.y) ** 2)"
      ],
      "metadata": {
        "id": "Dl_M6Mg5MrY4"
      },
      "execution_count": 11,
      "outputs": []
    },
    {
      "cell_type": "code",
      "source": [
        "class Rectangle:\n",
        "  def __init__(self):\n",
        "    self.c1 = Point(0,0)\n",
        "    self.c2 = Point(0,2)\n",
        "    self.c3 = Point(2,0)\n",
        "    self.c4 = Point(2,2)\n",
        "    self.width = self.calculate_width()\n",
        "    self.height = self.calculate_height()\n",
        "\n",
        "  def calculate_width(self):\n",
        "    return self.c1.distance(self.c2)\n",
        "\n",
        "  def calculate_height(self):\n",
        "    return self.c3.distance(self.c4)\n",
        "\n",
        "  def area(self):\n",
        "    return self.width * self.height\n",
        "\n",
        "square = Rectangle()\n",
        "square.area()"
      ],
      "metadata": {
        "colab": {
          "base_uri": "https://localhost:8080/"
        },
        "id": "pHjvpQz3NGeJ",
        "outputId": "30051633-3893-4028-a0ae-59cec18a3487"
      },
      "execution_count": 12,
      "outputs": [
        {
          "output_type": "execute_result",
          "data": {
            "text/plain": [
              "4.0"
            ]
          },
          "metadata": {},
          "execution_count": 12
        }
      ]
    }
  ]
}