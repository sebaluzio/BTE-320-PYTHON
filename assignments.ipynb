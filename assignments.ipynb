{
  "nbformat": 4,
  "nbformat_minor": 0,
  "metadata": {
    "colab": {
      "provenance": [],
      "authorship_tag": "ABX9TyN0zbBmI20AQbR203Fk6g6X",
      "include_colab_link": true
    },
    "kernelspec": {
      "name": "python3",
      "display_name": "Python 3"
    },
    "language_info": {
      "name": "python"
    }
  },
  "cells": [
    {
      "cell_type": "markdown",
      "metadata": {
        "id": "view-in-github",
        "colab_type": "text"
      },
      "source": [
        "<a href=\"https://colab.research.google.com/github/sebaluzio/BTE-320-PYTHON/blob/main/assignments.ipynb\" target=\"_parent\"><img src=\"https://colab.research.google.com/assets/colab-badge.svg\" alt=\"Open In Colab\"/></a>"
      ]
    },
    {
      "cell_type": "code",
      "source": [],
      "metadata": {
        "id": "tK7KEJXasASi"
      },
      "execution_count": null,
      "outputs": []
    },
    {
      "cell_type": "code",
      "source": [
        "pi=3.14\n",
        "radius= float(input(\"please provide the radius: \"))\n",
        "height = float(input(\"please provide the height: \"))\n",
        "\n",
        "area = 2*pi*radius**2+2*pi*radius*height\n",
        "\n",
        "print(area)\n",
        "print(f\"area= {area]} sq. ft.7\")\n",
        "type(area)\n"
      ],
      "metadata": {
        "colab": {
          "base_uri": "https://localhost:8080/"
        },
        "id": "w73Cfw7QsIHz",
        "outputId": "6ba50f7a-bc7c-4d4a-95e5-ad90c1bf44d4"
      },
      "execution_count": null,
      "outputs": [
        {
          "output_type": "stream",
          "name": "stdout",
          "text": [
            "please provide the radius: 7\n",
            "please provide the height: 78\n",
            "3736.6000000000004\n",
            "area= 3736.6000000000004 sq. ft.7\n"
          ]
        },
        {
          "output_type": "execute_result",
          "data": {
            "text/plain": [
              "float"
            ]
          },
          "metadata": {},
          "execution_count": 11
        }
      ]
    },
    {
      "cell_type": "code",
      "source": [],
      "metadata": {
        "id": "G4Yd2lMLDbd2"
      },
      "execution_count": null,
      "outputs": []
    },
    {
      "cell_type": "markdown",
      "source": [
        "2 class assignment:"
      ],
      "metadata": {
        "id": "BEtNpHq7sRrO"
      }
    },
    {
      "cell_type": "code",
      "source": [
        "number_1 == 6\n",
        "number_2== 9\n",
        "symbol= input(\"please put a symbol\")\n",
        "if symbol== \"*\":\n",
        "  print(number1*number2)\n",
        "elif symbol== \"+\":\n",
        "  print(number1+number2)\n",
        "elif symbol== \"-\":\n",
        "  print(number1-number2)\n",
        "elif symbol== \"/\":\n",
        "  print(number1/number2)"
      ],
      "metadata": {
        "colab": {
          "base_uri": "https://localhost:8080/",
          "height": 216
        },
        "id": "ndbYvS0EsYhJ",
        "outputId": "b1feb4ed-f5c1-4210-e421-3d507b1d0960"
      },
      "execution_count": null,
      "outputs": [
        {
          "output_type": "error",
          "ename": "NameError",
          "evalue": "name 'number_1' is not defined",
          "traceback": [
            "\u001b[0;31m---------------------------------------------------------------------------\u001b[0m",
            "\u001b[0;31mNameError\u001b[0m                                 Traceback (most recent call last)",
            "\u001b[0;32m<ipython-input-5-c2b885420efc>\u001b[0m in \u001b[0;36m<cell line: 0>\u001b[0;34m()\u001b[0m\n\u001b[0;32m----> 1\u001b[0;31m \u001b[0mnumber_1\u001b[0m \u001b[0;34m==\u001b[0m \u001b[0;36m6\u001b[0m\u001b[0;34m\u001b[0m\u001b[0;34m\u001b[0m\u001b[0m\n\u001b[0m\u001b[1;32m      2\u001b[0m \u001b[0mnumber_2\u001b[0m\u001b[0;34m==\u001b[0m \u001b[0;36m9\u001b[0m\u001b[0;34m\u001b[0m\u001b[0;34m\u001b[0m\u001b[0m\n\u001b[1;32m      3\u001b[0m \u001b[0msymbol\u001b[0m\u001b[0;34m=\u001b[0m \u001b[0minput\u001b[0m\u001b[0;34m(\u001b[0m\u001b[0;34m\"please put a symbol\"\u001b[0m\u001b[0;34m)\u001b[0m\u001b[0;34m\u001b[0m\u001b[0;34m\u001b[0m\u001b[0m\n\u001b[1;32m      4\u001b[0m \u001b[0;32mif\u001b[0m \u001b[0msymbol\u001b[0m\u001b[0;34m==\u001b[0m \u001b[0;34m\"*\"\u001b[0m\u001b[0;34m:\u001b[0m\u001b[0;34m\u001b[0m\u001b[0;34m\u001b[0m\u001b[0m\n\u001b[1;32m      5\u001b[0m   \u001b[0mprint\u001b[0m\u001b[0;34m(\u001b[0m\u001b[0mnumber1\u001b[0m\u001b[0;34m*\u001b[0m\u001b[0mnumber2\u001b[0m\u001b[0;34m)\u001b[0m\u001b[0;34m\u001b[0m\u001b[0;34m\u001b[0m\u001b[0m\n",
            "\u001b[0;31mNameError\u001b[0m: name 'number_1' is not defined"
          ]
        }
      ]
    },
    {
      "cell_type": "code",
      "source": [
        "number_1= float(input(\"please provide first number: \"))\n",
        "number_2= float(input(\"please provide second number: \"))\n",
        "symbol= input(\"please put an operator\")\n",
        "\n",
        "if symbol == \"+\":\n",
        "  print(f\"{number_1}+{number_2} = {number_1 + number_2}\")\n",
        "elif symbol == \"-\":\n",
        "  print(f\"{number_1}-{number_2}) = {number_1 - number_2}\")\n",
        "elif symbol == \"/\":\n",
        "    print(f\"{number_1}/{number_2} = {number_1 / number_2}\")\n",
        "elif symbol == \"*\":\n",
        "    print(f\"{number_1}*{number_2} = {number_1 * number_2}\")\n",
        "elif symbol == \"**\":\n",
        "    print(f\"{number_1}**{number_2} = {number_1 ** number_2}\")\n",
        "elif symbol == \"%\":\n",
        "    print(f\"{number_1}%{number_2} = {number_1 % number_2}\")\n",
        "elif symbol == \"//\":\n",
        "    print(f\"{number_1}//{number_2} = {number_1 // number_2}\")\n",
        "else:\n",
        "    print(\"invalid operator\")\n"
      ],
      "metadata": {
        "colab": {
          "base_uri": "https://localhost:8080/"
        },
        "id": "xa1A_ptSvzcf",
        "outputId": "0283f737-c244-4c92-9110-89cb93bba896"
      },
      "execution_count": null,
      "outputs": [
        {
          "output_type": "stream",
          "name": "stdout",
          "text": [
            "please provide first number: 6\n",
            "please provide second number: 9\n",
            "please put an operator?\n",
            "invalid operator\n"
          ]
        }
      ]
    },
    {
      "cell_type": "markdown",
      "source": [
        "In class-assignment #3:"
      ],
      "metadata": {
        "id": "sKh9n8CEvzLF"
      }
    },
    {
      "cell_type": "code",
      "source": [
        "for number_hours in range (1,9):\n",
        "  fee= 5+2.5*(number_hours)\n",
        "  if fee<10.0:\n",
        "    fee=10.0\n",
        "  elif fee>20.0:\n",
        "    fee=20.0\n",
        "  print(number_hours, fee)"
      ],
      "metadata": {
        "colab": {
          "base_uri": "https://localhost:8080/"
        },
        "id": "6AykJ-alblfH",
        "outputId": "3d13ef05-0eb8-491e-9d03-e42a27a92ced"
      },
      "execution_count": 7,
      "outputs": [
        {
          "output_type": "stream",
          "name": "stdout",
          "text": [
            "1 10.0\n",
            "2 10.0\n",
            "3 12.5\n",
            "4 15.0\n",
            "5 17.5\n",
            "6 20.0\n",
            "7 20.0\n",
            "8 20.0\n"
          ]
        }
      ]
    },
    {
      "cell_type": "markdown",
      "source": [
        "stop value at 9 because the last number is not included. No need to put step.\n",
        "\n",
        "---\n",
        "\n",
        "\n",
        "\n",
        "---\n",
        "\n",
        "\n",
        "\n",
        "---\n",
        "\n"
      ],
      "metadata": {
        "id": "5xixM0Ntbwof"
      }
    },
    {
      "cell_type": "markdown",
      "source": [
        "Movie theater- initial problem\n",
        "for loop, use range functions, 25 intervals. People attending the movie = 20+2* dollars of advertisement squared"
      ],
      "metadata": {
        "id": "Hot3aUhjdQoI"
      }
    },
    {
      "cell_type": "code",
      "source": [
        "print ('Ad$\\t', 'profit')\n",
        "for ad_money in range (0,201,25):\n",
        "  revenue= (20+2*round(ad_money**0.5))*10\n",
        "  cost=200+ad_money\n",
        "  profit= revenue-cost\n",
        "  print(ad_money, '\\t', profit)\n"
      ],
      "metadata": {
        "colab": {
          "base_uri": "https://localhost:8080/"
        },
        "id": "V9bC_cvkg4Z-",
        "outputId": "3116fd14-8bf1-4859-bdcf-52b7bd928008"
      },
      "execution_count": 13,
      "outputs": [
        {
          "output_type": "stream",
          "name": "stdout",
          "text": [
            "Ad$\t profit\n",
            "0 \t 0\n",
            "25 \t 75\n",
            "50 \t 90\n",
            "75 \t 105\n",
            "100 \t 100\n",
            "125 \t 95\n",
            "150 \t 90\n",
            "175 \t 85\n",
            "200 \t 80\n"
          ]
        }
      ]
    },
    {
      "cell_type": "code",
      "source": [],
      "metadata": {
        "id": "vS7N_UqYh-mD"
      },
      "execution_count": null,
      "outputs": []
    }
  ]
}