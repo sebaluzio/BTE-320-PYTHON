{
  "nbformat": 4,
  "nbformat_minor": 0,
  "metadata": {
    "colab": {
      "provenance": [],
      "authorship_tag": "ABX9TyO+HwZbkPqN8HITVA6bRTpL",
      "include_colab_link": true
    },
    "kernelspec": {
      "name": "python3",
      "display_name": "Python 3"
    },
    "language_info": {
      "name": "python"
    }
  },
  "cells": [
    {
      "cell_type": "markdown",
      "metadata": {
        "id": "view-in-github",
        "colab_type": "text"
      },
      "source": [
        "<a href=\"https://colab.research.google.com/github/sebaluzio/BTE-320-PYTHON/blob/main/classwork_1.ipynb\" target=\"_parent\"><img src=\"https://colab.research.google.com/assets/colab-badge.svg\" alt=\"Open In Colab\"/></a>"
      ]
    },
    {
      "cell_type": "code",
      "source": [],
      "metadata": {
        "id": "tK7KEJXasASi"
      },
      "execution_count": null,
      "outputs": []
    },
    {
      "cell_type": "code",
      "source": [
        "pi=3.14\n",
        "radius= float(input(\"please provide the radius: \"))\n",
        "height = float(input(\"please provide the height: \"))\n",
        "\n",
        "area = 2*pi*radius**2+2*pi*radius*height\n",
        "\n",
        "print(area)\n",
        "print(f\"area= {area]} sq. ft.7\")\n",
        "type(area)\n"
      ],
      "metadata": {
        "colab": {
          "base_uri": "https://localhost:8080/"
        },
        "id": "w73Cfw7QsIHz",
        "outputId": "6ba50f7a-bc7c-4d4a-95e5-ad90c1bf44d4"
      },
      "execution_count": null,
      "outputs": [
        {
          "output_type": "stream",
          "name": "stdout",
          "text": [
            "please provide the radius: 7\n",
            "please provide the height: 78\n",
            "3736.6000000000004\n",
            "area= 3736.6000000000004 sq. ft.7\n"
          ]
        },
        {
          "output_type": "execute_result",
          "data": {
            "text/plain": [
              "float"
            ]
          },
          "metadata": {},
          "execution_count": 11
        }
      ]
    },
    {
      "cell_type": "code",
      "source": [],
      "metadata": {
        "id": "G4Yd2lMLDbd2"
      },
      "execution_count": null,
      "outputs": []
    }
  ]
}